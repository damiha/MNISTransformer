{
 "cells": [
  {
   "cell_type": "code",
   "execution_count": 1,
   "metadata": {},
   "outputs": [],
   "source": [
    "from torchvision import datasets, transforms\n",
    "import torch\n",
    "import numpy as np\n",
    "import math\n",
    "import matplotlib.pyplot as plt\n",
    "from tqdm import tqdm"
   ]
  },
  {
   "cell_type": "code",
   "execution_count": 2,
   "metadata": {},
   "outputs": [],
   "source": [
    "\n",
    "# Define the transform to resize the images to 30x30 and convert them to tensors\n",
    "transform = transforms.Compose([\n",
    "    transforms.Resize((30, 30)),  # Resize to 30x30\n",
    "    transforms.ToTensor(),  # Convert to tensor\n",
    "    transforms.Lambda(lambda x: torch.round(x))  # Round values to 0 or 1\n",
    "])\n",
    "\n",
    "# Download the MNIST dataset\n",
    "mnist_train = datasets.MNIST(root='./data', train=True, download=True, transform=transform)"
   ]
  },
  {
   "cell_type": "code",
   "execution_count": 3,
   "metadata": {},
   "outputs": [],
   "source": [
    "def get_as_string(x, y):\n",
    "    \n",
    "    _, width, height = x.shape\n",
    "\n",
    "    # 2**6 = 64\n",
    "    chunk_size = 6\n",
    "    \n",
    "    powers = 2**torch.arange(chunk_size)\n",
    "    powers = torch.flip(powers, dims=(0, ))\n",
    "\n",
    "    ascii_chars = []\n",
    "    \n",
    "    for row_idx in range(0, height):\n",
    "        for col_idx in range(0, width, chunk_size):\n",
    "            \n",
    "            bitstring = x[0, row_idx, col_idx:(col_idx + chunk_size)]\n",
    "            number = torch.sum(powers * bitstring).int().item()\n",
    "            \n",
    "            ascii_char = chr(number + 58)\n",
    "            ascii_chars.append(ascii_char)\n",
    "    \n",
    "    # first is desired class, last is \n",
    "    return f\"{y}{''.join(ascii_chars)})\""
   ]
  },
  {
   "cell_type": "code",
   "execution_count": 4,
   "metadata": {},
   "outputs": [],
   "source": [
    "def from_string(string):\n",
    "    \n",
    "    y = int(string[0])\n",
    "    \n",
    "    chars = string[1:-1]\n",
    "    \n",
    "    chunk_size = 6\n",
    "    \n",
    "    width = height = int(math.sqrt(len(chars)))\n",
    "    \n",
    "    x = np.zeros((30, 30))\n",
    "    \n",
    "    chars_per_row = 30 // chunk_size\n",
    "    \n",
    "    for idx, c in enumerate(chars):\n",
    "        \n",
    "        row_idx = (idx // chars_per_row)\n",
    "        col_idx = idx % chars_per_row\n",
    "        \n",
    "        integer_value = (ord(c) - 58)\n",
    "        \n",
    "        bitstring = format(integer_value, '06b')  # Convert to bitstring without leading '0b'\n",
    "        bit_list = [int(bit) for bit in bitstring]\n",
    "        \n",
    "        y_coord = row_idx\n",
    "        x_coord = (chunk_size * col_idx)\n",
    "        \n",
    "        x[y_coord, x_coord:x_coord + chunk_size] = np.array(bit_list)\n",
    "    \n",
    "    return x, y"
   ]
  },
  {
   "cell_type": "code",
   "execution_count": 5,
   "metadata": {},
   "outputs": [],
   "source": [
    "x, y = mnist_train[2]\n",
    "string = get_as_string(x, y)"
   ]
  },
  {
   "cell_type": "code",
   "execution_count": 6,
   "metadata": {},
   "outputs": [
    {
     "data": {
      "text/plain": [
       "'4:::::::::::::::::::::::::::::::::=::::=:;::<:=::@:=::@:=::H:=::H:=::F:=::v:=:Yv:=yvR:;x:R::::R::::r::::r::::r::::r::::r::::r::::R::::R::::::::::::::::)'"
      ]
     },
     "execution_count": 6,
     "metadata": {},
     "output_type": "execute_result"
    }
   ],
   "source": [
    "string"
   ]
  },
  {
   "cell_type": "code",
   "execution_count": 7,
   "metadata": {},
   "outputs": [],
   "source": [
    "x_res, y_res = from_string(string)"
   ]
  },
  {
   "cell_type": "code",
   "execution_count": 8,
   "metadata": {},
   "outputs": [
    {
     "data": {
      "image/png": "[encoded data removed]",
      "text/plain": [
       "<Figure size 640x480 with 1 Axes>"
      ]
     },
     "metadata": {},
     "output_type": "display_data"
    }
   ],
   "source": [
    "plt.imshow(x_res)\n",
    "plt.show()"
   ]
  },
  {
   "cell_type": "code",
   "execution_count": 9,
   "metadata": {},
   "outputs": [
    {
     "name": "stderr",
     "output_type": "stream",
     "text": [
      "100%|████████████████████████████████████| 10000/10000 [00:45<00:00, 219.54it/s]\n"
     ]
    }
   ],
   "source": [
    "n_samples = 10_000\n",
    "\n",
    "lines = []\n",
    "\n",
    "for i in tqdm(range(n_samples)):\n",
    "    \n",
    "    x, y= mnist_train[i]\n",
    "    string = get_as_string(x, y)\n",
    "    \n",
    "    lines.append(string)"
   ]
  },
  {
   "cell_type": "code",
   "execution_count": 10,
   "metadata": {},
   "outputs": [],
   "source": [
    "res = \"\\n\".join(lines)"
   ]
  },
  {
   "cell_type": "code",
   "execution_count": 11,
   "metadata": {},
   "outputs": [],
   "source": [
    "with open(\"mnist10k_as_text.txt\", \"w\") as f:\n",
    "    f.write(res)"
   ]
  }
 ],
 "metadata": {
  "kernelspec": {
   "display_name": "inpainting",
   "language": "python",
   "name": "myenv"
  },
  "language_info": {
   "codemirror_mode": {
    "name": "ipython",
    "version": 3
   },
   "file_extension": ".py",
   "mimetype": "text/x-python",
   "name": "python",
   "nbconvert_exporter": "python",
   "pygments_lexer": "ipython3",
   "version": "3.10.9"
  }
 },
 "nbformat": 4,
 "nbformat_minor": 2
}
