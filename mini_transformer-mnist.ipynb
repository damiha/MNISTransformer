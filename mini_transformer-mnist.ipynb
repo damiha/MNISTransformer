{
 "cells": [
  {
   "cell_type": "code",
   "execution_count": 92,
   "metadata": {},
   "outputs": [],
   "source": [
    "import torch\n",
    "import torch.nn as nn\n",
    "import matplotlib.pyplot as plt\n",
    "import numpy as np\n",
    "from torch.utils.data import Dataset, DataLoader\n",
    "import math\n",
    "import torch.nn.functional as F\n",
    "from tqdm import tqdm\n",
    "from transformer import Transformer\n",
    "from mnist_classifier import MNISTClassifier\n",
    "import time"
   ]
  },
  {
   "cell_type": "code",
   "execution_count": 162,
   "metadata": {},
   "outputs": [],
   "source": [
    "device = \"cuda\" if torch.cuda.is_available() else \"cpu\""
   ]
  },
  {
   "cell_type": "code",
   "execution_count": 163,
   "metadata": {},
   "outputs": [],
   "source": [
    "def to_tokens(text, c_to_i):\n",
    "    \n",
    "    res = []\n",
    "    \n",
    "    for c in text:\n",
    "        res.append(c_to_i[c])\n",
    "        \n",
    "    return res"
   ]
  },
  {
   "cell_type": "code",
   "execution_count": 164,
   "metadata": {},
   "outputs": [],
   "source": [
    "def from_tokens(tokens, i_to_c):\n",
    "    \n",
    "    res = []\n",
    "    \n",
    "    for t in tokens:\n",
    "        res.append(i_to_c[t])\n",
    "        \n",
    "    return \"\".join(res)"
   ]
  },
  {
   "cell_type": "code",
   "execution_count": 165,
   "metadata": {},
   "outputs": [],
   "source": [
    "class TokenDataset(Dataset):\n",
    "    def __init__(self, tokens, context_size):\n",
    "        \n",
    "        self.context_size = context_size\n",
    "        self.tokens = torch.tensor(tokens)\n",
    "\n",
    "    def __len__(self):\n",
    "        return len(self.tokens) - self.context_size - 1\n",
    "\n",
    "    def __getitem__(self, idx):\n",
    "        x = self.tokens[idx:(idx + self.context_size)]\n",
    "        y = self.tokens[(idx + 1):(idx + self.context_size + 1)]\n",
    "        \n",
    "        return x, y"
   ]
  },
  {
   "cell_type": "code",
   "execution_count": 166,
   "metadata": {},
   "outputs": [],
   "source": [
    "def get_dataset_and_dicts(filename, context_size):\n",
    "    \n",
    "    with open(filename, \"r\") as f:\n",
    "        text = f.read()\n",
    "    \n",
    "    chars = list(sorted(set(text)))\n",
    "    \n",
    "    print(f\"context size = {context_size}\")\n",
    "    print(f\"#symbols = {len(chars)}\")\n",
    "    \n",
    "    c_to_i = {c:i for i, c in enumerate(chars)}\n",
    "    i_to_c = {i:c for i, c in enumerate(chars)}\n",
    "    \n",
    "    tokens = to_tokens(text, c_to_i)\n",
    "    \n",
    "    print(f\"#tokens in text = {len(tokens)}\")\n",
    "    \n",
    "    return TokenDataset(tokens, context_size), c_to_i, i_to_c"
   ]
  },
  {
   "cell_type": "code",
   "execution_count": 167,
   "metadata": {
    "scrolled": false
   },
   "outputs": [
    {
     "name": "stdout",
     "output_type": "stream",
     "text": [
      "context size = 152\n",
      "#symbols = 74\n",
      "#tokens in text = 1529999\n"
     ]
    }
   ],
   "source": [
    "context_size = 152\n",
    "token_dataset, c_to_i, i_to_c = get_dataset_and_dicts(\"mnist10k_as_text.txt\", context_size=context_size)"
   ]
  },
  {
   "cell_type": "code",
   "execution_count": 168,
   "metadata": {},
   "outputs": [],
   "source": [
    "train_set, val_set, test_set = torch.utils.data.random_split(token_dataset, [0.9, 0.05, 0.05])"
   ]
  },
  {
   "cell_type": "code",
   "execution_count": 169,
   "metadata": {},
   "outputs": [],
   "source": [
    "batch_size = 128\n",
    "\n",
    "train_loader = DataLoader(train_set, shuffle=True, batch_size=batch_size)\n",
    "val_loader = DataLoader(val_set, shuffle=True, batch_size=batch_size)\n",
    "test_loader = DataLoader(test_set, shuffle=True, batch_size=batch_size)"
   ]
  },
  {
   "cell_type": "code",
   "execution_count": 170,
   "metadata": {},
   "outputs": [],
   "source": [
    "# taken from: https://stackoverflow.com/questions/71998978/early-stopping-in-pytorch\n",
    "class EarlyStopper:\n",
    "    def __init__(self, patience=1, min_delta=0):\n",
    "        self.patience = patience\n",
    "        self.min_delta = min_delta\n",
    "        self.counter = 0\n",
    "        self.min_validation_loss = float('inf')\n",
    "\n",
    "    def early_stop(self, validation_loss):\n",
    "        if validation_loss < self.min_validation_loss:\n",
    "            self.min_validation_loss = validation_loss\n",
    "            self.counter = 0\n",
    "        elif validation_loss > (self.min_validation_loss + self.min_delta):\n",
    "            self.counter += 1\n",
    "            if self.counter >= self.patience:\n",
    "                return True\n",
    "        return False"
   ]
  },
  {
   "cell_type": "code",
   "execution_count": 171,
   "metadata": {},
   "outputs": [],
   "source": [
    "def train(transformer, train_loader, val_loader, n_epochs,\n",
    "          optimizer=None,\n",
    "          lr_scheduler=None,\n",
    "          early_stopper=None,\n",
    "          metrics_per_epoch=10\n",
    "         ):\n",
    "    \n",
    "    transformer = transformer.to(device)\n",
    "    \n",
    "    if optimizer is None:\n",
    "        optimizer = torch.optim.Adam(transformer.parameters(), lr=3e-4)\n",
    "        print(\"Using default optimizer\")\n",
    "        \n",
    "    if early_stopper is None:\n",
    "        early_stopper = EarlyStopper(patience=3, min_delta=1e-2)\n",
    "        print(\"Using default early stopper\")\n",
    "        \n",
    "    if lr_scheduler is None:\n",
    "        lr_scheduler = torch.optim.lr_scheduler.ReduceLROnPlateau(optimizer,\n",
    "                                                                  factor=0.3, patience=3, min_lr=1e-5,\n",
    "                                                                  threshold=1e-3\n",
    "                                                                 )\n",
    "        print(\"Using default LR scheduler\")\n",
    "    \n",
    "    # label smoothing deactivated for now\n",
    "    criterion_train = nn.CrossEntropyLoss(label_smoothing=0.0)\n",
    "    criterion_test = nn.CrossEntropyLoss()\n",
    "    \n",
    "    train_losses_over_epochs = []\n",
    "    val_losses_over_epochs = []\n",
    "    \n",
    "    metrics_every = len(train_loader) // metrics_per_epoch\n",
    "    in_between_epochs = []\n",
    "    in_between_metrics = []\n",
    "    \n",
    "    for epoch_idx in range(n_epochs):\n",
    "        \n",
    "        train_losses_this_batch = []\n",
    "        transformer.train()\n",
    "        \n",
    "        with tqdm(train_loader, desc=f\"Epoch {epoch_idx + 1}/{n_epochs}\", unit=\"batch\") as tepoch:\n",
    "            for batch_idx, (batch_x, batch_y) in enumerate(tepoch):\n",
    "\n",
    "                # to GPU\n",
    "                batch_x = batch_x.to(device)\n",
    "                batch_y = batch_y.to(device)\n",
    "\n",
    "                logits = transformer(batch_x)\n",
    "\n",
    "                logits = logits.transpose(1, 2)\n",
    "\n",
    "                loss = criterion_train(logits, batch_y)\n",
    "\n",
    "                train_losses_this_batch.append(loss.item())\n",
    "\n",
    "                if batch_idx % metrics_every == 0:\n",
    "                    in_between_loss = np.mean(np.array(train_losses_this_batch))\n",
    "                    in_between_metrics.append(in_between_loss)\n",
    "                    in_between_epochs.append(epoch_idx + (batch_idx / len(train_loader)))\n",
    "\n",
    "                    tepoch.set_postfix(avg_loss=in_between_loss)\n",
    "\n",
    "                optimizer.zero_grad()\n",
    "                loss.backward()\n",
    "                optimizer.step()\n",
    "        \n",
    "        train_loss_this_epoch = np.mean(np.array(train_losses_this_batch))\n",
    "        train_losses_over_epochs.append(train_loss_this_epoch)\n",
    "        \n",
    "        # for early stopping\n",
    "        val_losses_this_batch = []\n",
    "        \n",
    "        transformer.eval()\n",
    "        \n",
    "        with torch.no_grad():\n",
    "            for batch_idx, (batch_x, batch_y) in enumerate(val_loader):\n",
    "\n",
    "                # to GPU\n",
    "                batch_x = batch_x.to(device)\n",
    "                batch_y = batch_y.to(device)\n",
    "\n",
    "                logits = transformer(batch_x)\n",
    "                \n",
    "                logits = logits.transpose(1, 2)\n",
    "\n",
    "                loss = criterion_test(logits, batch_y)\n",
    "\n",
    "                val_losses_this_batch.append(loss.item())\n",
    "        \n",
    "        val_loss_this_epoch = np.mean(np.array(val_losses_this_batch))\n",
    "        val_losses_over_epochs.append(val_loss_this_epoch)\n",
    "        print(f\"{epoch_idx}. avg. train loss = {train_loss_this_epoch}, avg. val loss = {val_loss_this_epoch}\")\n",
    "        \n",
    "        should_stop = early_stopper.early_stop(val_loss_this_epoch)\n",
    "        lr_scheduler.step(val_loss_this_epoch)\n",
    "        \n",
    "        if should_stop:\n",
    "            print(f\"stopping early (val. loss did not decrease for {early_stopper.patience})\")\n",
    "            break\n",
    "        \n",
    "    return train_losses_over_epochs, in_between_epochs, in_between_metrics, val_losses_over_epochs"
   ]
  },
  {
   "cell_type": "code",
   "execution_count": 174,
   "metadata": {},
   "outputs": [],
   "source": [
    "n_symbols = len(c_to_i.keys())\n",
    "\n",
    "transformer = Transformer(n_symbols, context_size, d_model = 256, n_heads = 8, n_layers=8, device=device)"
   ]
  },
  {
   "cell_type": "code",
   "execution_count": 175,
   "metadata": {},
   "outputs": [],
   "source": [
    "optimizer = torch.optim.Adam(transformer.parameters(), lr=1e-4)"
   ]
  },
  {
   "cell_type": "code",
   "execution_count": 176,
   "metadata": {
    "scrolled": true
   },
   "outputs": [
    {
     "name": "stdout",
     "output_type": "stream",
     "text": [
      "Using default early stopper\n",
      "Using default LR scheduler\n"
     ]
    },
    {
     "name": "stderr",
     "output_type": "stream",
     "text": [
      "Epoch 1/1: 100%|███████| 10757/10757 [40:20<00:00,  4.44batch/s, avg_loss=0.531]\n"
     ]
    },
    {
     "name": "stdout",
     "output_type": "stream",
     "text": [
      "0. avg. train loss = 0.5303010509294948, avg. val loss = 0.426700659021486\n"
     ]
    }
   ],
   "source": [
    "train_losses, in_between_epochs, in_between_metrics, val_losses =\\\n",
    "train(transformer, train_loader, val_loader, n_epochs=1, optimizer=optimizer, metrics_per_epoch=100)"
   ]
  },
  {
   "cell_type": "code",
   "execution_count": 177,
   "metadata": {
    "scrolled": true
   },
   "outputs": [
    {
     "data": {
      "image/png": "[encoded data removed]",
      "text/plain": [
       "<Figure size 640x480 with 1 Axes>"
      ]
     },
     "metadata": {},
     "output_type": "display_data"
    }
   ],
   "source": [
    "epoch_list = np.arange(len(train_losses)) + 1.0\n",
    "plt.scatter(epoch_list, train_losses, label=\"train\", c=\"blue\")\n",
    "plt.plot(in_between_epochs, in_between_metrics, c=\"blue\")\n",
    "plt.plot(epoch_list, val_losses, label=\"val\", c=\"orange\")\n",
    "plt.xlabel(\"Epochs\")\n",
    "plt.xticks(np.arange(len(train_losses) + 1))\n",
    "plt.ylabel(\"Loss\")\n",
    "plt.legend()\n",
    "plt.show()"
   ]
  },
  {
   "cell_type": "code",
   "execution_count": 178,
   "metadata": {},
   "outputs": [],
   "source": [
    "def get_text_samples(response, i_to_c):\n",
    "\n",
    "    text_samples = []\n",
    "\n",
    "    for row in response:\n",
    "        text_sample = ''.join([i_to_c[token.item()] for token in row])\n",
    "        text_samples.append(text_sample)\n",
    "    \n",
    "    return text_samples"
   ]
  },
  {
   "cell_type": "code",
   "execution_count": 179,
   "metadata": {},
   "outputs": [],
   "source": [
    "def from_string(string):\n",
    "    \n",
    "    end_pos = string.find(\")\")\n",
    "    chars = list(string)\n",
    "    \n",
    "    if end_pos > -1:\n",
    "        for i in range(end_pos, len(string)):\n",
    "            chars[i] = \":\"\n",
    "    \n",
    "    chunk_size = 6\n",
    "    \n",
    "    width = height = int(math.sqrt(len(chars)))\n",
    "    \n",
    "    bitmap = np.zeros((30, 30))\n",
    "    \n",
    "    chars_per_row = 30 // chunk_size\n",
    "    \n",
    "    for idx, c in enumerate(chars):\n",
    "        \n",
    "        row_idx = (idx // chars_per_row)\n",
    "        col_idx = idx % chars_per_row\n",
    "        \n",
    "        integer_value = max(0, ord(c) - 58)\n",
    "        \n",
    "        bitstring = format(integer_value, '06b')  # Convert to bitstring without leading '0b'\n",
    "        bit_list = [int(bit) for bit in bitstring]\n",
    "        \n",
    "        y_coord = row_idx\n",
    "        x_coord = (chunk_size * col_idx)\n",
    "        \n",
    "        bitmap[y_coord, x_coord:x_coord + chunk_size] = np.array(bit_list)[:chunk_size]\n",
    "    \n",
    "    return bitmap"
   ]
  },
  {
   "cell_type": "code",
   "execution_count": 180,
   "metadata": {},
   "outputs": [
    {
     "name": "stdout",
     "output_type": "stream",
     "text": [
      "Model loaded from mnist_classifier.pth\n"
     ]
    }
   ],
   "source": [
    "mnist_classifier = MNISTClassifier()\n",
    "mnist_classifier.load_model(\"mnist_classifier.pth\")"
   ]
  },
  {
   "cell_type": "code",
   "execution_count": 230,
   "metadata": {},
   "outputs": [],
   "source": [
    "def query_and_plot(transformer,\n",
    "                   c_to_i, i_to_c,\n",
    "                   prompt, n_samples,\n",
    "                   beta,\n",
    "                   show_top_k=-1, classifier=None, beta_c=1.0):\n",
    "    \n",
    "    assert (show_top_k == -1 or classifier is not None), \"show_top_k requires ranking by classifier\"\n",
    "    \n",
    "    sampling_start_time = time.time()\n",
    "    \n",
    "    response = transformer.sample(prompt=prompt, n_tokens=150,\n",
    "                                  n_samples=n_samples, c_to_i=c_to_i, beta=beta)\n",
    "    \n",
    "    sampling_end_time = time.time()\n",
    "    print(f\"Sampling time: {sampling_end_time - sampling_start_time:.2f}s\")\n",
    "    \n",
    "    # Convert the response to text samples\n",
    "    texts = get_text_samples(response, i_to_c)\n",
    "    \n",
    "    # Convert texts to numpy arrays\n",
    "    images = np.array([from_string(text) for text in texts])\n",
    "    conversion_end_time = time.time()\n",
    "    \n",
    "    print(f\"Conversion time: {conversion_end_time - sampling_end_time:.2f}s\")\n",
    "    \n",
    "    torch_images = torch.tensor(images).unsqueeze(1).float()\n",
    "    \n",
    "    if show_top_k != -1:\n",
    "        logits = classifier(torch_images) / beta_c\n",
    "        preds = F.softmax(logits, dim=1)\n",
    "        \n",
    "        # 0 to 9\n",
    "        desired_class = int(prompt)\n",
    "        #print(f\"Desired class: {desired_class}\")\n",
    "        \n",
    "        # sort descending!!!\n",
    "        res = torch.argsort(-preds[:, desired_class]).numpy()\n",
    "        \n",
    "        images = images[res][:show_top_k]\n",
    "        \n",
    "    ranking_time_end = time.time()\n",
    "    print(f\"Ranking time: {ranking_time_end - conversion_end_time:.2f}s\")\n",
    "    \n",
    "    # Calculate the number of rows needed to display the images\n",
    "    nrows = (len(images) + 3) // 4  # Ensure there's enough rows, rounding up\n",
    "    fig, axs = plt.subplots(nrows=nrows, ncols=4, figsize=(20, nrows*5))  # Each image will have space allocated in the grid\n",
    "    \n",
    "    # Flatten the axes array for easy iteration\n",
    "    axs = axs.flatten()\n",
    "    \n",
    "    # Loop through the images and plot them\n",
    "    for i, img in enumerate(images):\n",
    "        axs[i].imshow(img)\n",
    "        axs[i].axis('off')  # Turn off the axis to only show the image\n",
    "    \n",
    "    # Turn off any unused subplots\n",
    "    for i in range(len(images), len(axs)):\n",
    "        axs[i].axis('off')\n",
    "    \n",
    "    plt.show()\n",
    "    \n",
    "    display_time_end = time.time()\n",
    "    print(f\"Display time: {display_time_end - ranking_time_end:.2f}s\")"
   ]
  },
  {
   "cell_type": "code",
   "execution_count": 231,
   "metadata": {},
   "outputs": [],
   "source": [
    "#transformer.save_model(\"mnist_transformer_1e_10k.pth\")"
   ]
  },
  {
   "cell_type": "code",
   "execution_count": 228,
   "metadata": {},
   "outputs": [],
   "source": [
    "#transformer.load_model(\"mnist_transformer.pth\")"
   ]
  },
  {
   "cell_type": "code",
   "execution_count": 243,
   "metadata": {
    "scrolled": true
   },
   "outputs": [
    {
     "name": "stdout",
     "output_type": "stream",
     "text": [
      "Prompt: 9\n",
      "Prompt tokens: [11]\n",
      "Sampling time: 3.12s\n",
      "Conversion time: 0.14s\n",
      "Ranking time: 0.00s\n"
     ]
    },
    {
     "data": {
      "image/png": "[encoded data removed]",
      "text/plain": [
       "<Figure size 2000x1000 with 8 Axes>"
      ]
     },
     "metadata": {},
     "output_type": "display_data"
    },
    {
     "name": "stdout",
     "output_type": "stream",
     "text": [
      "Display time: 0.33s\n"
     ]
    }
   ],
   "source": [
    "query_and_plot(transformer, c_to_i, i_to_c, prompt=\"9\",\n",
    "               n_samples = 64, beta=0.8,\n",
    "              show_top_k=8, classifier=mnist_classifier, beta_c = 0.9)"
   ]
  },
  {
   "cell_type": "code",
   "execution_count": null,
   "metadata": {},
   "outputs": [],
   "source": []
  }
 ],
 "metadata": {
  "kernelspec": {
   "display_name": "inpainting",
   "language": "python",
   "name": "myenv"
  },
  "language_info": {
   "codemirror_mode": {
    "name": "ipython",
    "version": 3
   },
   "file_extension": ".py",
   "mimetype": "text/x-python",
   "name": "python",
   "nbconvert_exporter": "python",
   "pygments_lexer": "ipython3",
   "version": "3.10.9"
  }
 },
 "nbformat": 4,
 "nbformat_minor": 2
}
